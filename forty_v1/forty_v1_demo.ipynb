{
  "nbformat": 4,
  "nbformat_minor": 0,
  "metadata": {
    "colab": {
      "provenance": []
    },
    "kernelspec": {
      "name": "python3",
      "display_name": "Python 3"
    },
    "language_info": {
      "name": "python"
    }
  },
  "cells": [
    {
      "cell_type": "code",
      "execution_count": null,
      "metadata": {
        "id": "yjBFnRhI24Hd"
      },
      "outputs": [],
      "source": [
        "import matplotlib.pylab as plt\n",
        "import tensorflow_datasets as tfds"
      ]
    },
    {
      "cell_type": "code",
      "source": [
        "# Load dataset\n",
        "ds_all, info = tfds.load(\"forty_v1\", data_dir=\"gs://forest_typology\", try_gcs=True, with_info=True)"
      ],
      "metadata": {
        "id": "6g1wHnVM3i0L"
      },
      "execution_count": null,
      "outputs": []
    },
    {
      "cell_type": "code",
      "source": [
        "info"
      ],
      "metadata": {
        "id": "M7qxlSWW3JQZ"
      },
      "execution_count": null,
      "outputs": []
    },
    {
      "cell_type": "code",
      "source": [
        "# Get a batch\n",
        "np_it = ds_all[\"test\"].batch(4).as_numpy_iterator()\n",
        "x = next(np_it)"
      ],
      "metadata": {
        "id": "XIyuLzUq3Set"
      },
      "execution_count": null,
      "outputs": []
    },
    {
      "cell_type": "code",
      "source": [
        "# Quick check on data statistics.\n",
        "for k, v in x.items():\n",
        "  print(f\"{k:20}: {str(v.shape):21} {str(v.dtype):9} -- {v.min():20} {v.max():20} {v.mean():20} {v.std():20}\")"
      ],
      "metadata": {
        "id": "QtTDvENmxVa-"
      },
      "execution_count": null,
      "outputs": []
    },
    {
      "cell_type": "code",
      "source": [
        "# Quick visualization of the data.\n",
        "plt.imshow(x['s2'][2, 0][..., [2, 1, 0]]/2000)"
      ],
      "metadata": {
        "id": "igwha2T23l_g"
      },
      "execution_count": null,
      "outputs": []
    },
    {
      "metadata": {
        "id": "DoeAiwV8za5f"
      },
      "cell_type": "code",
      "source": [],
      "outputs": [],
      "execution_count": null
    }
  ]
}
